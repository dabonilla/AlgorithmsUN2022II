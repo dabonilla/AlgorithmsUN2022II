{
  "nbformat": 4,
  "nbformat_minor": 0,
  "metadata": {
    "colab": {
      "provenance": [],
      "authorship_tag": "ABX9TyOe0AdsWIDJf1jjmAhORP5G",
      "include_colab_link": true
    },
    "kernelspec": {
      "name": "python3",
      "display_name": "Python 3"
    },
    "language_info": {
      "name": "python"
    }
  },
  "cells": [
    {
      "cell_type": "markdown",
      "metadata": {
        "id": "view-in-github",
        "colab_type": "text"
      },
      "source": [
        "<a href=\"https://colab.research.google.com/github/dabonilla/AlgorithmsUN2022II/blob/main/Lab3/dabonillacognitiveclassaapplieddatadciencewithpython.ipynb\" target=\"_parent\"><img src=\"https://colab.research.google.com/assets/colab-badge.svg\" alt=\"Open In Colab\"/></a>"
      ]
    },
    {
      "cell_type": "markdown",
      "source": [
        "https://www.linkedin.com/in/DanielMauricioBonillaMu%C3%B1oz/\n",
        "\n"
      ],
      "metadata": {
        "id": "4Gfd7DOTJMKa"
      }
    },
    {
      "cell_type": "markdown",
      "source": [
        "https://courses.cognitiveclass.ai/certificates/4c64fbcc72a74555b8bab139012fe6b2"
      ],
      "metadata": {
        "id": "YD5kd-paKDSG"
      }
    },
    {
      "cell_type": "markdown",
      "source": [
        "https://courses.cognitiveclass.ai/certificates/46157ea6eb7e4e9d88eb5f7d6b6e2510"
      ],
      "metadata": {
        "id": "ARy8FvBCKDsO"
      }
    },
    {
      "cell_type": "markdown",
      "source": [
        "https://courses.cognitiveclass.ai/certificates/c90defd4d288484c9aaa83ce96631377"
      ],
      "metadata": {
        "id": "-Rfz-B5IKEJd"
      }
    }
  ]
}
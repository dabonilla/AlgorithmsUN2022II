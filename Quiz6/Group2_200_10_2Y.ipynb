{
  "cells": [
    {
      "cell_type": "markdown",
      "metadata": {
        "id": "view-in-github",
        "colab_type": "text"
      },
      "source": [
        "<a href=\"https://colab.research.google.com/github/dabonilla/AlgorithmsUN2022II/blob/main/Quiz6/Group2_200_10_2Y.ipynb\" target=\"_parent\"><img src=\"https://colab.research.google.com/assets/colab-badge.svg\" alt=\"Open In Colab\"/></a>"
      ]
    },
    {
      "cell_type": "markdown",
      "metadata": {
        "id": "p9XXgZQl1vM5",
        "pycharm": {
          "name": "#%% md\n"
        }
      },
      "source": [
        "# Group2_200_10_2Y"
      ]
    },
    {
      "cell_type": "code",
      "execution_count": null,
      "metadata": {
        "colab": {
          "referenced_widgets": [
            "48a45a7191984642adb5e18beb93af9e",
            "515bf8d2b62b44a79b4301ff10dd0294"
          ]
        },
        "id": "ed-V_gKN1vM9",
        "outputId": "fa6c024a-c5ee-4ede-e3d7-787d3250a364",
        "pycharm": {
          "is_executing": true,
          "name": "#%%\n"
        },
        "scrolled": true
      },
      "outputs": [
        {
          "data": {
            "text/html": [
              "        <script type=\"text/javascript\">\n",
              "        window.PlotlyConfig = {MathJaxConfig: 'local'};\n",
              "        if (window.MathJax) {MathJax.Hub.Config({SVG: {font: \"STIX-Web\"}});}\n",
              "        if (typeof require !== 'undefined') {\n",
              "        require.undef(\"plotly\");\n",
              "        requirejs.config({\n",
              "            paths: {\n",
              "                'plotly': ['https://cdn.plot.ly/plotly-latest.min']\n",
              "            }\n",
              "        });\n",
              "        require(['plotly'], function(Plotly) {\n",
              "            window._Plotly = Plotly;\n",
              "        });\n",
              "        }\n",
              "        </script>\n",
              "        "
            ]
          },
          "metadata": {},
          "output_type": "display_data"
        },
        {
          "name": "stdout",
          "output_type": "stream",
          "text": [
            "Run last pass...\n",
            "Load data...\n",
            "fetched chunk 1/1 0s\n",
            "Data loaded 0s\n",
            "Run strategy...\n",
            "Load data for cleanup...\n",
            "fetched chunk 1/1 0s\n",
            "Data loaded 0s\n",
            "Output cleaning...\n",
            "fix uniq\n",
            "ffill if the current price is None...\n",
            "Check liquidity...\n",
            "Ok.\n",
            "Check missed dates...\n",
            "Ok.\n",
            "Normalization...\n",
            "Output cleaning is complete.\n",
            "Write result...\n",
            "Write output: /root/fractions.nc.gz\n",
            "---\n",
            "Run first pass...\n",
            "Load data...\n",
            "fetched chunk 1/1 0s\n",
            "Data loaded 0s\n",
            "Run strategy...\n",
            "---\n",
            "Load full data...\n",
            "fetched chunk 1/2 0s\n",
            "fetched chunk 2/2 0s\n",
            "Data loaded 0s\n",
            "---\n",
            "Run iterations...\n",
            "\n"
          ]
        },
        {
          "name": "stderr",
          "output_type": "stream",
          "text": [
            "100% (507 of 507) |######################| Elapsed Time: 0:00:16 Time:  0:00:16\n"
          ]
        },
        {
          "name": "stdout",
          "output_type": "stream",
          "text": [
            "Merge outputs...\n",
            "Load data for cleanup and analysis...\n",
            "fetched chunk 1/2 0s\n",
            "fetched chunk 2/2 0s\n",
            "Data loaded 0s\n",
            "Output cleaning...\n",
            "fix uniq\n",
            "ffill if the current price is None...\n",
            "Check liquidity...\n",
            "Ok.\n",
            "Check missed dates...\n",
            "Ok.\n",
            "Normalization...\n",
            "Output cleaning is complete.\n",
            "Write result...\n",
            "Write output: /root/fractions.nc.gz\n",
            "---\n",
            "Analyze results...\n",
            "Check...\n",
            "Check liquidity...\n",
            "Ok.\n",
            "Check missed dates...\n",
            "Ok.\n",
            "Check the sharpe ratio...\n"
          ]
        },
        {
          "name": "stderr",
          "output_type": "stream",
          "text": [
            "WARNING! There are not enough points in the data\n",
            "The first point(2016-08-12) should be earlier than 2006-01-01\n",
            "Load data more historical data.\n",
            "WARNING! There are not enough points in the output.\n",
            "The output series should start from 2006-01-01 or earlier instead of 2020-10-12\n"
          ]
        },
        {
          "name": "stdout",
          "output_type": "stream",
          "text": [
            "Period: 2016-08-12 - 2022-10-14\n",
            "Sharpe Ratio = 0.07817882141858278\n"
          ]
        },
        {
          "name": "stderr",
          "output_type": "stream",
          "text": [
            "ERROR! The Sharpe Ratio is too low. 0.07817882141858278 < 1\n",
            "Improve the strategy and make sure that the in-sample Sharpe Ratio more than 1.\n"
          ]
        },
        {
          "name": "stdout",
          "output_type": "stream",
          "text": [
            "Check correlation.\n",
            "\n"
          ]
        },
        {
          "name": "stderr",
          "output_type": "stream",
          "text": [
            "WARNING! This strategy correlates with other strategies and will be rejected.\n",
            "Modify the strategy to produce the different output.\n"
          ]
        },
        {
          "name": "stdout",
          "output_type": "stream",
          "text": [
            "The number of systems with a larger Sharpe ratio and correlation larger than 0.9: 1\n",
            "The max correlation value (with systems with a larger Sharpe ratio): 0.9790657032364679\n",
            "Current sharpe ratio(3y): 0.1379407641860119\n",
            "\n",
            "Correlated examples:\n",
            "\n",
            "Name               Coefficient    Sharpe ratio\n",
            "---------------  -------------  --------------\n",
            "Q18 Quick Start       0.979066         0.24162\n",
            "---\n",
            "Align...\n",
            "Calc global stats...\n",
            "---\n",
            "Calc stats per asset...\n",
            "Build plots...\n",
            "---\n",
            "Select the asset (or leave blank to display the overall stats):\n"
          ]
        },
        {
          "data": {
            "application/vnd.jupyter.widget-view+json": {
              "model_id": "515bf8d2b62b44a79b4301ff10dd0294",
              "version_major": 2,
              "version_minor": 0
            },
            "text/plain": [
              "interactive(children=(Combobox(value='', description='asset', options=('', 'NAS:AAL', 'NAS:AAPL', 'NAS:ABNB', …"
            ]
          },
          "metadata": {},
          "output_type": "display_data"
        }
      ],
      "source": [
        "import xarray as xr\n",
        "\n",
        "import qnt.ta as qnta\n",
        "import qnt.backtester as qnbt\n",
        "import qnt.data as qndata\n",
        "\n",
        "def load_data(period):\n",
        "    return qndata.stocks.load_ndx_data(tail=period)\n",
        "\n",
        "\n",
        "\n",
        "def strategy(data):\n",
        "    close     = data.sel(field=\"close\")\n",
        "    is_liquid = data.sel(field=\"is_liquid\")\n",
        "    sma_slow  = qnta.sma(close, 200).isel(time=-1)\n",
        "    sma_fast  = qnta.sma(close, 10).isel(time=-1)\n",
        "    weights   = xr.where(sma_slow < sma_fast, 1, -1)\n",
        "    weights   = weights * is_liquid\n",
        "    return weights\n",
        "\n",
        "\n",
        "\n",
        "weights = qnbt.backtest(\n",
        "    competition_type = \"stocks_nasdaq100\",\n",
        "    load_data        = load_data,\n",
        "    lookback_period  = 365*4,\n",
        "    start_date       = \"2020-10-10\",\n",
        "    strategy         = strategy,\n",
        "    analyze          = True,\n",
        "    build_plots      = True\n",
        ")"
      ]
    },
    {
      "cell_type": "code",
      "execution_count": null,
      "metadata": {
        "id": "1HspymsueXJl"
      },
      "outputs": [],
      "source": []
    },
    {
      "cell_type": "code",
      "execution_count": null,
      "metadata": {
        "id": "CaQCEcCoeXJn"
      },
      "outputs": [],
      "source": []
    },
    {
      "cell_type": "code",
      "execution_count": null,
      "metadata": {
        "id": "g47MKoVfeXJn"
      },
      "outputs": [],
      "source": []
    },
    {
      "cell_type": "code",
      "execution_count": null,
      "metadata": {
        "id": "c0zXKDb0eXJo"
      },
      "outputs": [],
      "source": []
    },
    {
      "cell_type": "code",
      "execution_count": null,
      "metadata": {
        "id": "EvpvVZfmeXJo"
      },
      "outputs": [],
      "source": []
    }
  ],
  "metadata": {
    "colab": {
      "collapsed_sections": [],
      "provenance": [],
      "include_colab_link": true
    },
    "kernelspec": {
      "display_name": "Python 3",
      "language": "python",
      "name": "python3"
    },
    "language_info": {
      "codemirror_mode": {
        "name": "ipython",
        "version": 3
      },
      "file_extension": ".py",
      "mimetype": "text/x-python",
      "name": "python",
      "nbconvert_exporter": "python",
      "pygments_lexer": "ipython3",
      "version": "3.7.6"
    }
  },
  "nbformat": 4,
  "nbformat_minor": 0
}